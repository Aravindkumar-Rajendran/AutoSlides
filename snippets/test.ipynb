{
 "metadata": {
  "language_info": {
   "codemirror_mode": {
    "name": "ipython",
    "version": 3
   },
   "file_extension": ".py",
   "mimetype": "text/x-python",
   "name": "python",
   "nbconvert_exporter": "python",
   "pygments_lexer": "ipython3",
   "version": "3.8.5"
  },
  "orig_nbformat": 4,
  "kernelspec": {
   "name": "python3",
   "display_name": "Python 3.8.5 64-bit ('venv': venv)"
  },
  "interpreter": {
   "hash": "bc6b8ccd6d489de63512ecae56c21a10e2d2d8f4804fbe4e67985d01104d3c14"
  }
 },
 "nbformat": 4,
 "nbformat_minor": 2,
 "cells": [
  {
   "cell_type": "code",
   "execution_count": 1,
   "metadata": {},
   "outputs": [],
   "source": [
    "import pptx\n",
    "\n",
    "prs = pptx.Presentation()\n",
    "prs.slides.add_slide(prs.slide_layouts[1])\n",
    "\n",
    "_, body, *_ = prs.slides[0].shapes.placeholders\n",
    "p = body.text_frame.paragraphs[0]\n",
    "\n",
    "p.text = \"Hello Bullet World has a bullet (because of the default style) don't know the intricacies of Powerpoint and neither this package/xmlchemy so well as to understand if my  is legitimate or completely brain-dead. I can only see that for the use-case described above, it seems to work (and 2355 tests are still passing) \"\n",
    "\n",
    "prs.save(\"test1.pptx\")  # save off a \"control\" presentation\n",
    "\n",
    "p.bullet = False  # no bullet\n",
    "prs.save(\"test2.pptx\")\n",
    "\n",
    "p.bullet = \"★\" # bullet is star character\n",
    "prs.save(\"test3.pptx\")"
   ]
  },
  {
   "cell_type": "code",
   "execution_count": 6,
   "metadata": {},
   "outputs": [
    {
     "output_type": "stream",
     "name": "stdout",
     "text": [
      "https://www.google.co.in/search?q=transpiration&source=lnms&tbm=isch\n"
     ]
    },
    {
     "output_type": "error",
     "ename": "URLError",
     "evalue": "<urlopen error [Errno -3] Temporary failure in name resolution>",
     "traceback": [
      "\u001b[0;31m---------------------------------------------------------------------------\u001b[0m",
      "\u001b[0;31mgaierror\u001b[0m                                  Traceback (most recent call last)",
      "\u001b[0;32m~/miniconda3/lib/python3.8/urllib/request.py\u001b[0m in \u001b[0;36mdo_open\u001b[0;34m(self, http_class, req, **http_conn_args)\u001b[0m\n\u001b[1;32m   1349\u001b[0m             \u001b[0;32mtry\u001b[0m\u001b[0;34m:\u001b[0m\u001b[0;34m\u001b[0m\u001b[0;34m\u001b[0m\u001b[0m\n\u001b[0;32m-> 1350\u001b[0;31m                 h.request(req.get_method(), req.selector, req.data, headers,\n\u001b[0m\u001b[1;32m   1351\u001b[0m                           encode_chunked=req.has_header('Transfer-encoding'))\n",
      "\u001b[0;32m~/miniconda3/lib/python3.8/http/client.py\u001b[0m in \u001b[0;36mrequest\u001b[0;34m(self, method, url, body, headers, encode_chunked)\u001b[0m\n\u001b[1;32m   1254\u001b[0m         \u001b[0;34m\"\"\"Send a complete request to the server.\"\"\"\u001b[0m\u001b[0;34m\u001b[0m\u001b[0;34m\u001b[0m\u001b[0m\n\u001b[0;32m-> 1255\u001b[0;31m         \u001b[0mself\u001b[0m\u001b[0;34m.\u001b[0m\u001b[0m_send_request\u001b[0m\u001b[0;34m(\u001b[0m\u001b[0mmethod\u001b[0m\u001b[0;34m,\u001b[0m \u001b[0murl\u001b[0m\u001b[0;34m,\u001b[0m \u001b[0mbody\u001b[0m\u001b[0;34m,\u001b[0m \u001b[0mheaders\u001b[0m\u001b[0;34m,\u001b[0m \u001b[0mencode_chunked\u001b[0m\u001b[0;34m)\u001b[0m\u001b[0;34m\u001b[0m\u001b[0;34m\u001b[0m\u001b[0m\n\u001b[0m\u001b[1;32m   1256\u001b[0m \u001b[0;34m\u001b[0m\u001b[0m\n",
      "\u001b[0;32m~/miniconda3/lib/python3.8/http/client.py\u001b[0m in \u001b[0;36m_send_request\u001b[0;34m(self, method, url, body, headers, encode_chunked)\u001b[0m\n\u001b[1;32m   1300\u001b[0m             \u001b[0mbody\u001b[0m \u001b[0;34m=\u001b[0m \u001b[0m_encode\u001b[0m\u001b[0;34m(\u001b[0m\u001b[0mbody\u001b[0m\u001b[0;34m,\u001b[0m \u001b[0;34m'body'\u001b[0m\u001b[0;34m)\u001b[0m\u001b[0;34m\u001b[0m\u001b[0;34m\u001b[0m\u001b[0m\n\u001b[0;32m-> 1301\u001b[0;31m         \u001b[0mself\u001b[0m\u001b[0;34m.\u001b[0m\u001b[0mendheaders\u001b[0m\u001b[0;34m(\u001b[0m\u001b[0mbody\u001b[0m\u001b[0;34m,\u001b[0m \u001b[0mencode_chunked\u001b[0m\u001b[0;34m=\u001b[0m\u001b[0mencode_chunked\u001b[0m\u001b[0;34m)\u001b[0m\u001b[0;34m\u001b[0m\u001b[0;34m\u001b[0m\u001b[0m\n\u001b[0m\u001b[1;32m   1302\u001b[0m \u001b[0;34m\u001b[0m\u001b[0m\n",
      "\u001b[0;32m~/miniconda3/lib/python3.8/http/client.py\u001b[0m in \u001b[0;36mendheaders\u001b[0;34m(self, message_body, encode_chunked)\u001b[0m\n\u001b[1;32m   1249\u001b[0m             \u001b[0;32mraise\u001b[0m \u001b[0mCannotSendHeader\u001b[0m\u001b[0;34m(\u001b[0m\u001b[0;34m)\u001b[0m\u001b[0;34m\u001b[0m\u001b[0;34m\u001b[0m\u001b[0m\n\u001b[0;32m-> 1250\u001b[0;31m         \u001b[0mself\u001b[0m\u001b[0;34m.\u001b[0m\u001b[0m_send_output\u001b[0m\u001b[0;34m(\u001b[0m\u001b[0mmessage_body\u001b[0m\u001b[0;34m,\u001b[0m \u001b[0mencode_chunked\u001b[0m\u001b[0;34m=\u001b[0m\u001b[0mencode_chunked\u001b[0m\u001b[0;34m)\u001b[0m\u001b[0;34m\u001b[0m\u001b[0;34m\u001b[0m\u001b[0m\n\u001b[0m\u001b[1;32m   1251\u001b[0m \u001b[0;34m\u001b[0m\u001b[0m\n",
      "\u001b[0;32m~/miniconda3/lib/python3.8/http/client.py\u001b[0m in \u001b[0;36m_send_output\u001b[0;34m(self, message_body, encode_chunked)\u001b[0m\n\u001b[1;32m   1009\u001b[0m         \u001b[0;32mdel\u001b[0m \u001b[0mself\u001b[0m\u001b[0;34m.\u001b[0m\u001b[0m_buffer\u001b[0m\u001b[0;34m[\u001b[0m\u001b[0;34m:\u001b[0m\u001b[0;34m]\u001b[0m\u001b[0;34m\u001b[0m\u001b[0;34m\u001b[0m\u001b[0m\n\u001b[0;32m-> 1010\u001b[0;31m         \u001b[0mself\u001b[0m\u001b[0;34m.\u001b[0m\u001b[0msend\u001b[0m\u001b[0;34m(\u001b[0m\u001b[0mmsg\u001b[0m\u001b[0;34m)\u001b[0m\u001b[0;34m\u001b[0m\u001b[0;34m\u001b[0m\u001b[0m\n\u001b[0m\u001b[1;32m   1011\u001b[0m \u001b[0;34m\u001b[0m\u001b[0m\n",
      "\u001b[0;32m~/miniconda3/lib/python3.8/http/client.py\u001b[0m in \u001b[0;36msend\u001b[0;34m(self, data)\u001b[0m\n\u001b[1;32m    949\u001b[0m             \u001b[0;32mif\u001b[0m \u001b[0mself\u001b[0m\u001b[0;34m.\u001b[0m\u001b[0mauto_open\u001b[0m\u001b[0;34m:\u001b[0m\u001b[0;34m\u001b[0m\u001b[0;34m\u001b[0m\u001b[0m\n\u001b[0;32m--> 950\u001b[0;31m                 \u001b[0mself\u001b[0m\u001b[0;34m.\u001b[0m\u001b[0mconnect\u001b[0m\u001b[0;34m(\u001b[0m\u001b[0;34m)\u001b[0m\u001b[0;34m\u001b[0m\u001b[0;34m\u001b[0m\u001b[0m\n\u001b[0m\u001b[1;32m    951\u001b[0m             \u001b[0;32melse\u001b[0m\u001b[0;34m:\u001b[0m\u001b[0;34m\u001b[0m\u001b[0;34m\u001b[0m\u001b[0m\n",
      "\u001b[0;32m~/miniconda3/lib/python3.8/http/client.py\u001b[0m in \u001b[0;36mconnect\u001b[0;34m(self)\u001b[0m\n\u001b[1;32m   1416\u001b[0m \u001b[0;34m\u001b[0m\u001b[0m\n\u001b[0;32m-> 1417\u001b[0;31m             \u001b[0msuper\u001b[0m\u001b[0;34m(\u001b[0m\u001b[0;34m)\u001b[0m\u001b[0;34m.\u001b[0m\u001b[0mconnect\u001b[0m\u001b[0;34m(\u001b[0m\u001b[0;34m)\u001b[0m\u001b[0;34m\u001b[0m\u001b[0;34m\u001b[0m\u001b[0m\n\u001b[0m\u001b[1;32m   1418\u001b[0m \u001b[0;34m\u001b[0m\u001b[0m\n",
      "\u001b[0;32m~/miniconda3/lib/python3.8/http/client.py\u001b[0m in \u001b[0;36mconnect\u001b[0;34m(self)\u001b[0m\n\u001b[1;32m    920\u001b[0m         \u001b[0;34m\"\"\"Connect to the host and port specified in __init__.\"\"\"\u001b[0m\u001b[0;34m\u001b[0m\u001b[0;34m\u001b[0m\u001b[0m\n\u001b[0;32m--> 921\u001b[0;31m         self.sock = self._create_connection(\n\u001b[0m\u001b[1;32m    922\u001b[0m             (self.host,self.port), self.timeout, self.source_address)\n",
      "\u001b[0;32m~/miniconda3/lib/python3.8/socket.py\u001b[0m in \u001b[0;36mcreate_connection\u001b[0;34m(address, timeout, source_address)\u001b[0m\n\u001b[1;32m    786\u001b[0m     \u001b[0merr\u001b[0m \u001b[0;34m=\u001b[0m \u001b[0;32mNone\u001b[0m\u001b[0;34m\u001b[0m\u001b[0;34m\u001b[0m\u001b[0m\n\u001b[0;32m--> 787\u001b[0;31m     \u001b[0;32mfor\u001b[0m \u001b[0mres\u001b[0m \u001b[0;32min\u001b[0m \u001b[0mgetaddrinfo\u001b[0m\u001b[0;34m(\u001b[0m\u001b[0mhost\u001b[0m\u001b[0;34m,\u001b[0m \u001b[0mport\u001b[0m\u001b[0;34m,\u001b[0m \u001b[0;36m0\u001b[0m\u001b[0;34m,\u001b[0m \u001b[0mSOCK_STREAM\u001b[0m\u001b[0;34m)\u001b[0m\u001b[0;34m:\u001b[0m\u001b[0;34m\u001b[0m\u001b[0;34m\u001b[0m\u001b[0m\n\u001b[0m\u001b[1;32m    788\u001b[0m         \u001b[0maf\u001b[0m\u001b[0;34m,\u001b[0m \u001b[0msocktype\u001b[0m\u001b[0;34m,\u001b[0m \u001b[0mproto\u001b[0m\u001b[0;34m,\u001b[0m \u001b[0mcanonname\u001b[0m\u001b[0;34m,\u001b[0m \u001b[0msa\u001b[0m \u001b[0;34m=\u001b[0m \u001b[0mres\u001b[0m\u001b[0;34m\u001b[0m\u001b[0;34m\u001b[0m\u001b[0m\n",
      "\u001b[0;32m~/miniconda3/lib/python3.8/socket.py\u001b[0m in \u001b[0;36mgetaddrinfo\u001b[0;34m(host, port, family, type, proto, flags)\u001b[0m\n\u001b[1;32m    917\u001b[0m     \u001b[0maddrlist\u001b[0m \u001b[0;34m=\u001b[0m \u001b[0;34m[\u001b[0m\u001b[0;34m]\u001b[0m\u001b[0;34m\u001b[0m\u001b[0;34m\u001b[0m\u001b[0m\n\u001b[0;32m--> 918\u001b[0;31m     \u001b[0;32mfor\u001b[0m \u001b[0mres\u001b[0m \u001b[0;32min\u001b[0m \u001b[0m_socket\u001b[0m\u001b[0;34m.\u001b[0m\u001b[0mgetaddrinfo\u001b[0m\u001b[0;34m(\u001b[0m\u001b[0mhost\u001b[0m\u001b[0;34m,\u001b[0m \u001b[0mport\u001b[0m\u001b[0;34m,\u001b[0m \u001b[0mfamily\u001b[0m\u001b[0;34m,\u001b[0m \u001b[0mtype\u001b[0m\u001b[0;34m,\u001b[0m \u001b[0mproto\u001b[0m\u001b[0;34m,\u001b[0m \u001b[0mflags\u001b[0m\u001b[0;34m)\u001b[0m\u001b[0;34m:\u001b[0m\u001b[0;34m\u001b[0m\u001b[0;34m\u001b[0m\u001b[0m\n\u001b[0m\u001b[1;32m    919\u001b[0m         \u001b[0maf\u001b[0m\u001b[0;34m,\u001b[0m \u001b[0msocktype\u001b[0m\u001b[0;34m,\u001b[0m \u001b[0mproto\u001b[0m\u001b[0;34m,\u001b[0m \u001b[0mcanonname\u001b[0m\u001b[0;34m,\u001b[0m \u001b[0msa\u001b[0m \u001b[0;34m=\u001b[0m \u001b[0mres\u001b[0m\u001b[0;34m\u001b[0m\u001b[0;34m\u001b[0m\u001b[0m\n",
      "\u001b[0;31mgaierror\u001b[0m: [Errno -3] Temporary failure in name resolution",
      "\nDuring handling of the above exception, another exception occurred:\n",
      "\u001b[0;31mURLError\u001b[0m                                  Traceback (most recent call last)",
      "\u001b[0;32m<ipython-input-6-d36867a6d30f>\u001b[0m in \u001b[0;36m<module>\u001b[0;34m\u001b[0m\n\u001b[1;32m     23\u001b[0m header={'User-Agent':\"Mozilla/5.0 (Windows NT 6.1; WOW64) AppleWebKit/537.36 (KHTML, like Gecko) Chrome/43.0.2357.134 Safari/537.36\"\n\u001b[1;32m     24\u001b[0m }\n\u001b[0;32m---> 25\u001b[0;31m \u001b[0msoup\u001b[0m \u001b[0;34m=\u001b[0m \u001b[0mget_soup\u001b[0m\u001b[0;34m(\u001b[0m\u001b[0murl\u001b[0m\u001b[0;34m,\u001b[0m\u001b[0mheader\u001b[0m\u001b[0;34m)\u001b[0m\u001b[0;34m\u001b[0m\u001b[0;34m\u001b[0m\u001b[0m\n\u001b[0m\u001b[1;32m     26\u001b[0m \u001b[0;34m\u001b[0m\u001b[0m\n\u001b[1;32m     27\u001b[0m \u001b[0;34m\u001b[0m\u001b[0m\n",
      "\u001b[0;32m<ipython-input-6-d36867a6d30f>\u001b[0m in \u001b[0;36mget_soup\u001b[0;34m(url, header)\u001b[0m\n\u001b[1;32m     10\u001b[0m \u001b[0;34m\u001b[0m\u001b[0m\n\u001b[1;32m     11\u001b[0m \u001b[0;32mdef\u001b[0m \u001b[0mget_soup\u001b[0m\u001b[0;34m(\u001b[0m\u001b[0murl\u001b[0m\u001b[0;34m,\u001b[0m\u001b[0mheader\u001b[0m\u001b[0;34m)\u001b[0m\u001b[0;34m:\u001b[0m\u001b[0;34m\u001b[0m\u001b[0;34m\u001b[0m\u001b[0m\n\u001b[0;32m---> 12\u001b[0;31m     \u001b[0;32mreturn\u001b[0m \u001b[0mBeautifulSoup\u001b[0m\u001b[0;34m(\u001b[0m\u001b[0murllib2\u001b[0m\u001b[0;34m.\u001b[0m\u001b[0murlopen\u001b[0m\u001b[0;34m(\u001b[0m\u001b[0murllib2\u001b[0m\u001b[0;34m.\u001b[0m\u001b[0mRequest\u001b[0m\u001b[0;34m(\u001b[0m\u001b[0murl\u001b[0m\u001b[0;34m,\u001b[0m\u001b[0mheaders\u001b[0m\u001b[0;34m=\u001b[0m\u001b[0mheader\u001b[0m\u001b[0;34m)\u001b[0m\u001b[0;34m)\u001b[0m\u001b[0;34m,\u001b[0m\u001b[0;34m'html.parser'\u001b[0m\u001b[0;34m)\u001b[0m\u001b[0;34m\u001b[0m\u001b[0;34m\u001b[0m\u001b[0m\n\u001b[0m\u001b[1;32m     13\u001b[0m \u001b[0;34m\u001b[0m\u001b[0m\n\u001b[1;32m     14\u001b[0m \u001b[0;34m\u001b[0m\u001b[0m\n",
      "\u001b[0;32m~/miniconda3/lib/python3.8/urllib/request.py\u001b[0m in \u001b[0;36murlopen\u001b[0;34m(url, data, timeout, cafile, capath, cadefault, context)\u001b[0m\n\u001b[1;32m    220\u001b[0m     \u001b[0;32melse\u001b[0m\u001b[0;34m:\u001b[0m\u001b[0;34m\u001b[0m\u001b[0;34m\u001b[0m\u001b[0m\n\u001b[1;32m    221\u001b[0m         \u001b[0mopener\u001b[0m \u001b[0;34m=\u001b[0m \u001b[0m_opener\u001b[0m\u001b[0;34m\u001b[0m\u001b[0;34m\u001b[0m\u001b[0m\n\u001b[0;32m--> 222\u001b[0;31m     \u001b[0;32mreturn\u001b[0m \u001b[0mopener\u001b[0m\u001b[0;34m.\u001b[0m\u001b[0mopen\u001b[0m\u001b[0;34m(\u001b[0m\u001b[0murl\u001b[0m\u001b[0;34m,\u001b[0m \u001b[0mdata\u001b[0m\u001b[0;34m,\u001b[0m \u001b[0mtimeout\u001b[0m\u001b[0;34m)\u001b[0m\u001b[0;34m\u001b[0m\u001b[0;34m\u001b[0m\u001b[0m\n\u001b[0m\u001b[1;32m    223\u001b[0m \u001b[0;34m\u001b[0m\u001b[0m\n\u001b[1;32m    224\u001b[0m \u001b[0;32mdef\u001b[0m \u001b[0minstall_opener\u001b[0m\u001b[0;34m(\u001b[0m\u001b[0mopener\u001b[0m\u001b[0;34m)\u001b[0m\u001b[0;34m:\u001b[0m\u001b[0;34m\u001b[0m\u001b[0;34m\u001b[0m\u001b[0m\n",
      "\u001b[0;32m~/miniconda3/lib/python3.8/urllib/request.py\u001b[0m in \u001b[0;36mopen\u001b[0;34m(self, fullurl, data, timeout)\u001b[0m\n\u001b[1;32m    523\u001b[0m \u001b[0;34m\u001b[0m\u001b[0m\n\u001b[1;32m    524\u001b[0m         \u001b[0msys\u001b[0m\u001b[0;34m.\u001b[0m\u001b[0maudit\u001b[0m\u001b[0;34m(\u001b[0m\u001b[0;34m'urllib.Request'\u001b[0m\u001b[0;34m,\u001b[0m \u001b[0mreq\u001b[0m\u001b[0;34m.\u001b[0m\u001b[0mfull_url\u001b[0m\u001b[0;34m,\u001b[0m \u001b[0mreq\u001b[0m\u001b[0;34m.\u001b[0m\u001b[0mdata\u001b[0m\u001b[0;34m,\u001b[0m \u001b[0mreq\u001b[0m\u001b[0;34m.\u001b[0m\u001b[0mheaders\u001b[0m\u001b[0;34m,\u001b[0m \u001b[0mreq\u001b[0m\u001b[0;34m.\u001b[0m\u001b[0mget_method\u001b[0m\u001b[0;34m(\u001b[0m\u001b[0;34m)\u001b[0m\u001b[0;34m)\u001b[0m\u001b[0;34m\u001b[0m\u001b[0;34m\u001b[0m\u001b[0m\n\u001b[0;32m--> 525\u001b[0;31m         \u001b[0mresponse\u001b[0m \u001b[0;34m=\u001b[0m \u001b[0mself\u001b[0m\u001b[0;34m.\u001b[0m\u001b[0m_open\u001b[0m\u001b[0;34m(\u001b[0m\u001b[0mreq\u001b[0m\u001b[0;34m,\u001b[0m \u001b[0mdata\u001b[0m\u001b[0;34m)\u001b[0m\u001b[0;34m\u001b[0m\u001b[0;34m\u001b[0m\u001b[0m\n\u001b[0m\u001b[1;32m    526\u001b[0m \u001b[0;34m\u001b[0m\u001b[0m\n\u001b[1;32m    527\u001b[0m         \u001b[0;31m# post-process response\u001b[0m\u001b[0;34m\u001b[0m\u001b[0;34m\u001b[0m\u001b[0;34m\u001b[0m\u001b[0m\n",
      "\u001b[0;32m~/miniconda3/lib/python3.8/urllib/request.py\u001b[0m in \u001b[0;36m_open\u001b[0;34m(self, req, data)\u001b[0m\n\u001b[1;32m    540\u001b[0m \u001b[0;34m\u001b[0m\u001b[0m\n\u001b[1;32m    541\u001b[0m         \u001b[0mprotocol\u001b[0m \u001b[0;34m=\u001b[0m \u001b[0mreq\u001b[0m\u001b[0;34m.\u001b[0m\u001b[0mtype\u001b[0m\u001b[0;34m\u001b[0m\u001b[0;34m\u001b[0m\u001b[0m\n\u001b[0;32m--> 542\u001b[0;31m         result = self._call_chain(self.handle_open, protocol, protocol +\n\u001b[0m\u001b[1;32m    543\u001b[0m                                   '_open', req)\n\u001b[1;32m    544\u001b[0m         \u001b[0;32mif\u001b[0m \u001b[0mresult\u001b[0m\u001b[0;34m:\u001b[0m\u001b[0;34m\u001b[0m\u001b[0;34m\u001b[0m\u001b[0m\n",
      "\u001b[0;32m~/miniconda3/lib/python3.8/urllib/request.py\u001b[0m in \u001b[0;36m_call_chain\u001b[0;34m(self, chain, kind, meth_name, *args)\u001b[0m\n\u001b[1;32m    500\u001b[0m         \u001b[0;32mfor\u001b[0m \u001b[0mhandler\u001b[0m \u001b[0;32min\u001b[0m \u001b[0mhandlers\u001b[0m\u001b[0;34m:\u001b[0m\u001b[0;34m\u001b[0m\u001b[0;34m\u001b[0m\u001b[0m\n\u001b[1;32m    501\u001b[0m             \u001b[0mfunc\u001b[0m \u001b[0;34m=\u001b[0m \u001b[0mgetattr\u001b[0m\u001b[0;34m(\u001b[0m\u001b[0mhandler\u001b[0m\u001b[0;34m,\u001b[0m \u001b[0mmeth_name\u001b[0m\u001b[0;34m)\u001b[0m\u001b[0;34m\u001b[0m\u001b[0;34m\u001b[0m\u001b[0m\n\u001b[0;32m--> 502\u001b[0;31m             \u001b[0mresult\u001b[0m \u001b[0;34m=\u001b[0m \u001b[0mfunc\u001b[0m\u001b[0;34m(\u001b[0m\u001b[0;34m*\u001b[0m\u001b[0margs\u001b[0m\u001b[0;34m)\u001b[0m\u001b[0;34m\u001b[0m\u001b[0;34m\u001b[0m\u001b[0m\n\u001b[0m\u001b[1;32m    503\u001b[0m             \u001b[0;32mif\u001b[0m \u001b[0mresult\u001b[0m \u001b[0;32mis\u001b[0m \u001b[0;32mnot\u001b[0m \u001b[0;32mNone\u001b[0m\u001b[0;34m:\u001b[0m\u001b[0;34m\u001b[0m\u001b[0;34m\u001b[0m\u001b[0m\n\u001b[1;32m    504\u001b[0m                 \u001b[0;32mreturn\u001b[0m \u001b[0mresult\u001b[0m\u001b[0;34m\u001b[0m\u001b[0;34m\u001b[0m\u001b[0m\n",
      "\u001b[0;32m~/miniconda3/lib/python3.8/urllib/request.py\u001b[0m in \u001b[0;36mhttps_open\u001b[0;34m(self, req)\u001b[0m\n\u001b[1;32m   1391\u001b[0m \u001b[0;34m\u001b[0m\u001b[0m\n\u001b[1;32m   1392\u001b[0m         \u001b[0;32mdef\u001b[0m \u001b[0mhttps_open\u001b[0m\u001b[0;34m(\u001b[0m\u001b[0mself\u001b[0m\u001b[0;34m,\u001b[0m \u001b[0mreq\u001b[0m\u001b[0;34m)\u001b[0m\u001b[0;34m:\u001b[0m\u001b[0;34m\u001b[0m\u001b[0;34m\u001b[0m\u001b[0m\n\u001b[0;32m-> 1393\u001b[0;31m             return self.do_open(http.client.HTTPSConnection, req,\n\u001b[0m\u001b[1;32m   1394\u001b[0m                 context=self._context, check_hostname=self._check_hostname)\n\u001b[1;32m   1395\u001b[0m \u001b[0;34m\u001b[0m\u001b[0m\n",
      "\u001b[0;32m~/miniconda3/lib/python3.8/urllib/request.py\u001b[0m in \u001b[0;36mdo_open\u001b[0;34m(self, http_class, req, **http_conn_args)\u001b[0m\n\u001b[1;32m   1351\u001b[0m                           encode_chunked=req.has_header('Transfer-encoding'))\n\u001b[1;32m   1352\u001b[0m             \u001b[0;32mexcept\u001b[0m \u001b[0mOSError\u001b[0m \u001b[0;32mas\u001b[0m \u001b[0merr\u001b[0m\u001b[0;34m:\u001b[0m \u001b[0;31m# timeout error\u001b[0m\u001b[0;34m\u001b[0m\u001b[0;34m\u001b[0m\u001b[0m\n\u001b[0;32m-> 1353\u001b[0;31m                 \u001b[0;32mraise\u001b[0m \u001b[0mURLError\u001b[0m\u001b[0;34m(\u001b[0m\u001b[0merr\u001b[0m\u001b[0;34m)\u001b[0m\u001b[0;34m\u001b[0m\u001b[0;34m\u001b[0m\u001b[0m\n\u001b[0m\u001b[1;32m   1354\u001b[0m             \u001b[0mr\u001b[0m \u001b[0;34m=\u001b[0m \u001b[0mh\u001b[0m\u001b[0;34m.\u001b[0m\u001b[0mgetresponse\u001b[0m\u001b[0;34m(\u001b[0m\u001b[0;34m)\u001b[0m\u001b[0;34m\u001b[0m\u001b[0;34m\u001b[0m\u001b[0m\n\u001b[1;32m   1355\u001b[0m         \u001b[0;32mexcept\u001b[0m\u001b[0;34m:\u001b[0m\u001b[0;34m\u001b[0m\u001b[0;34m\u001b[0m\u001b[0m\n",
      "\u001b[0;31mURLError\u001b[0m: <urlopen error [Errno -3] Temporary failure in name resolution>"
     ]
    }
   ],
   "source": [
    "from bs4 import BeautifulSoup\n",
    "import requests\n",
    "import re\n",
    "try:\n",
    "    import urllib.request as urllib2\n",
    "except ImportError:\n",
    "    import urllib2\n",
    "import os\n",
    "import json\n",
    "\n",
    "def get_soup(url,header):\n",
    "    return BeautifulSoup(urllib2.urlopen(urllib2.Request(url,headers=header)),'html.parser')\n",
    "\n",
    "\n",
    "query = input(\"query image\")# you can change the query for the image  here\n",
    "image_type=\"ActiOn\"\n",
    "query= query.split()\n",
    "query='+'.join(query)\n",
    "url=\"https://www.google.co.in/search?q=\"+query+\"&source=lnms&tbm=isch\"\n",
    "print (url)\n",
    "#add the directory for your image here\n",
    "DIR=\"Pictures\"\n",
    "header={'User-Agent':\"Mozilla/5.0 (Windows NT 6.1; WOW64) AppleWebKit/537.36 (KHTML, like Gecko) Chrome/43.0.2357.134 Safari/537.36\"\n",
    "}\n",
    "soup = get_soup(url,header)\n",
    "\n",
    "\n",
    "ActualImages=[]# contains the link for Large original images, type of  image\n",
    "for a in soup.find_all(\"div\",{\"class\":\"rg_meta\"}):\n",
    "    link , Type =json.loads(a.text)[\"ou\"]  ,json.loads(a.text)[\"ity\"]\n",
    "    ActualImages.append((link,Type))\n",
    "\n",
    "print  (\"there are total\" , len(ActualImages),\"images\")\n",
    "\n",
    "if not os.path.exists(DIR):\n",
    "            os.mkdir(DIR)\n",
    "DIR = os.path.join(DIR, query.split()[0])\n",
    "\n",
    "if not os.path.exists(DIR):\n",
    "            os.mkdir(DIR)\n",
    "###print images\n",
    "for i , (img , Type) in enumerate( ActualImages):\n",
    "    try:\n",
    "        req = urllib2.Request(img, headers={'User-Agent' : header})\n",
    "        raw_img = urllib2.urlopen(req).read()\n",
    "\n",
    "        cntr = len([i for i in os.listdir(DIR) if image_type in i]) + 1\n",
    "        print (cntr)\n",
    "        if len(Type)==0:\n",
    "            f = open(os.path.join(DIR , image_type + \"_\"+ str(cntr)+\".jpg\"), 'wb')\n",
    "        else :\n",
    "            f = open(os.path.join(DIR , image_type + \"_\"+ str(cntr)+\".\"+Type), 'wb')\n",
    "\n",
    "\n",
    "        f.write(raw_img)\n",
    "        f.close()\n",
    "    except Exception as e:\n",
    "        print (\"could not load : \"+img)\n",
    "        print (e)"
   ]
  },
  {
   "cell_type": "code",
   "execution_count": 4,
   "metadata": {},
   "outputs": [],
   "source": [
    "from transformers import pipeline\n",
    "\n",
    "summarizer = pipeline(\"summarization\")\n",
    "\n",
    "ARTICLE = \"\"\" Water evaporates from mesophyll cells of leaves through the open stomata, this lowers water concentration in  mesophyll cells: As a result; more water is   drawn into these cells from the xylem present in the veins through the process of osmosis. As water is lost from the leaves, pressure is created at the top to pull more water from the xylem to the mesophyll cells, this process is called transpiration pull: This extends up to the roots causing the roots to absorb more water from the soil to ensure continuous flow of water from the roots to the leaves.\n",
    "\"\"\""
   ]
  },
  {
   "cell_type": "code",
   "execution_count": 8,
   "metadata": {},
   "outputs": [
    {
     "output_type": "stream",
     "name": "stdout",
     "text": [
      "[{'summary_text': ' Water evaporates from mesophyll cells of leaves through the open stomata, this lowers water concentration in  mesophll cells . As a result; more water is  drawn into these cells from the xylem present in the veins through the process of osmosis . Pressure is created at the top to pull more water from the top of the leaves to the roots to ensure continuous flow of water to the leaves . The roots absorb more water  from the soil to ensure'}]\n"
     ]
    }
   ],
   "source": [
    "print(summarizer(ARTICLE, max_length=100, min_length=30, do_sample=False))"
   ]
  },
  {
   "cell_type": "code",
   "execution_count": 9,
   "metadata": {},
   "outputs": [],
   "source": [
    "Text = [[\"text\", \"Transpiration is the evaporation of water from the aerial parts of the plant  especially through stomata in leaves. Stomata are open in the day and closed at night The opening and closing of the stomata is due to the change in turgidity of the guard cells  When water enters into the guard cells, they become turgid and the stoma open. When the guard cells lose water; it becomes flaccid and the stoma closes.\"],\n",
    "[\"text\", \"The apoplastic movement of water occurs exclusively   through the intercellular spaces and the walls ofthe cells. Apoplastic movement does not involve crossing the cell membrane This movement is dependent on the gradient.\"],\n",
    "[\"text\", \"Water evaporates from mesophyll cells of leaves through the open stomata, this lowers water concentration in  mesophyll cells: As a result; more water is   drawn into these cells from the xylem present in the veins through the process of osmosis. As water is lost from the leaves, pressure is created at the top to pull more water from the xylem to the mesophyll cells, this process is called transpiration pull: This extends up to the roots causing the roots to absorb more water from the soil to ensure continuous flow of water from the roots to the leaves.\"],\n",
    "[\"title\",  \"14.4.2 Symplast Pathway\"],\n",
    "[\"text\", \"Figure 14.4 T $. of the root showing movement of water from soil to xylem\"],\n",
    "[\"title\", \"14.4.1 Apoplast Pathway\"],\n",
    "[\"text\", \"Once the water enters the root hairs, the concentration of water molecules in the root hair cells become more than that of the cortex_ Thus water from the root hair moves to the cortical cells by osmosis and then reaches the xylem. From there the water is transported to the stem and leaves\"],\n",
    "[\"title\", \"14.4 Types of Movement of Water into the Root Cells\"],\n",
    "[\"text\", \"In this  method, water molecules move to the adjacent cells,   through the plasma membrane, cytoplasm and plasmodesmata. This   method f transport is   slow as water moves through   plasma membrane. It is in accordance to the concentration gradient\"],\n",
    "[\"text\", \"Once water is absorbed by the root hairs, it can move deeper into root layers by two distinct pathwavs:\"],\n",
    "[\"text\", \"Figure. 14.6 Process of Transpiration\"],\n",
    "[\"text\", \"Figure 14.5 Symplastic and Apoplastic pathways of Water\"],\n",
    "[\"title\", \"14.5 Transpiration\"],\n",
    "[\"text\", \"Once water is absorbed by the root hairs,\"], \n",
    "[\"title\",\"14.3 Pathway of Water Absorbed by Roots\"]]"
   ]
  },
  {
   "cell_type": "code",
   "execution_count": 13,
   "metadata": {},
   "outputs": [
    {
     "output_type": "stream",
     "name": "stdout",
     "text": [
      "text\ntext\ntext\ntitle\ntext\ntitle\ntext\ntitle\ntext\ntext\ntext\ntext\ntitle\ntext\ntitle\n"
     ]
    }
   ],
   "source": [
    "for label, text in Text:\n",
    "    print(label)"
   ]
  },
  {
   "cell_type": "code",
   "execution_count": null,
   "metadata": {},
   "outputs": [],
   "source": []
  },
  {
   "cell_type": "code",
   "execution_count": null,
   "metadata": {},
   "outputs": [],
   "source": []
  },
  {
   "cell_type": "code",
   "execution_count": 3,
   "metadata": {},
   "outputs": [],
   "source": [
    "from pptx import Presentation\n",
    "\n",
    "prs = Presentation()\n",
    "title_slide_layout = prs.slide_layouts[0]\n",
    "slide = prs.slides.add_slide(title_slide_layout)\n",
    "\n",
    "\n",
    "title = slide.shapes.title\n",
    "subtitle = slide.placeholders[1]\n",
    "\n",
    "title.text = \"Hello, World!\"\n",
    "subtitle.text = \"Once the water enters the root hairs, the concentration of water molecules in the root hair cells become more than that of the cortex_ Thus water from the root hair moves to the cortical cells by osmosis and then reaches the xylem. From there the water is transported to the stem and leaves\"\n",
    "\n",
    "prs.save('test.pptx')"
   ]
  },
  {
   "cell_type": "code",
   "execution_count": 8,
   "metadata": {},
   "outputs": [],
   "source": [
    "from pptx import Presentation\n",
    "from pptx.util import Inches, Pt\n",
    "\n",
    "prs = Presentation()\n",
    "blank_slide_layout = prs.slide_layouts[6]\n",
    "slide = prs.slides.add_slide(blank_slide_layout)\n",
    "\n",
    "left = top = width = height = Inches(2.5)\n",
    "txBox = slide.shapes.add_textbox(left, top, width, height)\n",
    "tf = txBox.text_frame\n",
    "\n",
    "tf.text = \"This is text inside a textbox\"\n",
    "\n",
    "p = tf.add_paragraph()\n",
    "p.text = \"This is a second paragraph that's bold\"\n",
    "p.font.bold = True\n",
    "\n",
    "p = tf.add_paragraph()\n",
    "p.text = \"This is a third paragraph that's big\"\n",
    "p.font.size = Pt(40)\n",
    "\n",
    "prs.save('test.pptx')"
   ]
  },
  {
   "cell_type": "code",
   "execution_count": 1,
   "metadata": {},
   "outputs": [],
   "source": [
    "results = [([386, 93, 648, 239], 0.9981144666671753, 'text', 'soil as charged particles (ions) that cannot move across cell membranes and (ii) the concentration of minerals in the soil is usually lower than the concentration of minerals in the root: Therefore, most minerals enter the rootby active absorption through the cytoplasm of epidermal cells. This needs energy in the form of ATP Then it is transported to all parts by transpiration Pull.'), ([99, 446, 361, 603], 0.9968233108520508, 'list', 'Creates transpirational pull for transport of water Supplies water for photosynthesis Transports minerals from soil to all parts of the plant Cools the surface of the leaves by evaporation. Keeps the   cells   turgid; hence,  maintains their shane'), ([94, 138, 360, 243], 0.9919576644897461, 'text', 'Transpiration is affected by several external factors such as temperature, light,  humidity and wind speed. Internal factors   that   affect transpiration include number and distribution of stomata, percentage of open stomata, water status of the plant, canopy structure etc.'), ([387, 308, 649, 433], 0.989024817943573, 'text', 'Minerals are remobilised from older dying leaves to younger leaves. This phenomenon can be seen in deciduous plants. Elements like phosphorus,  sulphur;  nitrogen  and potassium are easily mobilised, while elements like calcium are not remobilised Small amounts of material exchange takes place between xylem and phloem:'), ([388, 491, 649, 583], 0.9867697954177856, 'text', 'The food   synthesised by the leaves are transported by the phloem either to the area of requirement = or stored Phloem tissue is composed of sieve tubes which have sieve plates. Cytoplasmic strands pass through the pores in the sieve plates'), ([388, 851, 648, 902], 0.9855589866638184, 'text', 'The mechanism of translocation of sugars from source to sink is through pressure flow hypothesis Glucose   prepared at source (by'), ([99, 663, 358, 777], 0.9848859906196594, 'text', 'As mineral ions from the soil are actively transported into the xylem tissue of the root, water moves along and increases the pressure inside the xylem: This pressure is called root pressure and is responsible for pushing water upward to some extent'), ([95, 830, 360, 901], 0.9841093420982361, 'text', 'Plants depend on minerals from soil for its nutritional  requirements All  minerals cannot be passively absorbed by the roots. Two factors account for this: (i) minerals are present in the'), ([392, 585, 649, 692], 0.9807008504867554, 'text', 'Phloem transports food (sucrose) from ource to a sink The source is part of the plant hat synthesize food, i.e,, the leaf; and sink, is he part that needs or stores the food. But; the ource and sink may be reversed depending on he season, or the plants need.'), ([109, 625, 269, 648], 0.9725354909896851, 'title', '14.6 Root Pressure'), ([387, 698, 649, 786], 0.9703304767608643, 'text', 'Since the source-sink relationship is variable; the direction of   movement in the phloem can be   upwards or downwards, ie , bidirectional: In  contrast; the movement is always unidirectional in xylem ies upwards.'), ([101, 94, 285, 129], 0.9576330780982971, 'title', '14.5.1 Factors affecting Transpiration'), ([109, 792, 311, 819], 0.9568129777908325, 'title', '14.7 Uptake of Minerals'), ([396, 257, 635, 294], 0.9524787664413452, 'title', '14.8 Translocation of Mineral Tons'), ([397, 816, 640, 836], 0.924776017665863, 'title', '14.10 Translocation of Sugars'), ([104, 253, 350, 391], 0.9185718894004822, 'figure', 'output/15.jpg'), ([100, 421, 266, 436], 0.9121791124343872, 'text', 'Significance of Transpiration'), ([400, 457, 588, 479], 0.9098907113075256, 'title', '14.9 Phloem Transport'), ([115, 378, 345, 407], 0.908371090888977, 'text', 'Figure. 14.7 Guard cell in turgid and flaccid condition'), ([387, 776, 636, 788], 0.7859326601028442, 'text', 'always unidirectional in xylem 1.e., upwards.')]"
   ]
  },
  {
   "cell_type": "code",
   "execution_count": 2,
   "metadata": {},
   "outputs": [
    {
     "output_type": "execute_result",
     "data": {
      "text/plain": [
       "20"
      ]
     },
     "metadata": {},
     "execution_count": 2
    }
   ],
   "source": [
    "len(results)"
   ]
  },
  {
   "cell_type": "code",
   "execution_count": 4,
   "metadata": {},
   "outputs": [],
   "source": [
    "sorted_results = sorted(results, key=lambda x:x[0][1])"
   ]
  },
  {
   "cell_type": "code",
   "execution_count": 10,
   "metadata": {},
   "outputs": [
    {
     "output_type": "stream",
     "name": "stdout",
     "text": [
      "101 94\n94 138\n104 253\n115 378\n100 421\n99 446\n109 625\n99 663\n109 792\n95 830\n"
     ]
    }
   ],
   "source": [
    "image = 700\n",
    "    \n",
    "column_sorted_results = []\n",
    "second_column = []\n",
    "for result in sorted_results:\n",
    "    if result[0][0] <= 350:\n",
    "        column_sorted_results.append(result)\n",
    "        print(result[0][0], result[0][1])\n",
    "    else:\n",
    "        second_column.append(result)\n",
    "column_sorted_results += second_column"
   ]
  },
  {
   "cell_type": "code",
   "execution_count": 9,
   "metadata": {},
   "outputs": [
    {
     "output_type": "execute_result",
     "data": {
      "text/plain": [
       "[([386, 93, 648, 239],\n",
       "  0.9981144666671753,\n",
       "  'text',\n",
       "  'soil as charged particles (ions) that cannot move across cell membranes and (ii) the concentration of minerals in the soil is usually lower than the concentration of minerals in the root: Therefore, most minerals enter the rootby active absorption through the cytoplasm of epidermal cells. This needs energy in the form of ATP Then it is transported to all parts by transpiration Pull.'),\n",
       " ([101, 94, 285, 129],\n",
       "  0.9576330780982971,\n",
       "  'title',\n",
       "  '14.5.1 Factors affecting Transpiration'),\n",
       " ([94, 138, 360, 243],\n",
       "  0.9919576644897461,\n",
       "  'text',\n",
       "  'Transpiration is affected by several external factors such as temperature, light,  humidity and wind speed. Internal factors   that   affect transpiration include number and distribution of stomata, percentage of open stomata, water status of the plant, canopy structure etc.'),\n",
       " ([104, 253, 350, 391], 0.9185718894004822, 'figure', 'output/15.jpg'),\n",
       " ([396, 257, 635, 294],\n",
       "  0.9524787664413452,\n",
       "  'title',\n",
       "  '14.8 Translocation of Mineral Tons'),\n",
       " ([387, 308, 649, 433],\n",
       "  0.989024817943573,\n",
       "  'text',\n",
       "  'Minerals are remobilised from older dying leaves to younger leaves. This phenomenon can be seen in deciduous plants. Elements like phosphorus,  sulphur;  nitrogen  and potassium are easily mobilised, while elements like calcium are not remobilised Small amounts of material exchange takes place between xylem and phloem:'),\n",
       " ([115, 378, 345, 407],\n",
       "  0.908371090888977,\n",
       "  'text',\n",
       "  'Figure. 14.7 Guard cell in turgid and flaccid condition'),\n",
       " ([100, 421, 266, 436],\n",
       "  0.9121791124343872,\n",
       "  'text',\n",
       "  'Significance of Transpiration'),\n",
       " ([99, 446, 361, 603],\n",
       "  0.9968233108520508,\n",
       "  'list',\n",
       "  'Creates transpirational pull for transport of water Supplies water for photosynthesis Transports minerals from soil to all parts of the plant Cools the surface of the leaves by evaporation. Keeps the   cells   turgid; hence,  maintains their shane'),\n",
       " ([400, 457, 588, 479], 0.9098907113075256, 'title', '14.9 Phloem Transport'),\n",
       " ([388, 491, 649, 583],\n",
       "  0.9867697954177856,\n",
       "  'text',\n",
       "  'The food   synthesised by the leaves are transported by the phloem either to the area of requirement = or stored Phloem tissue is composed of sieve tubes which have sieve plates. Cytoplasmic strands pass through the pores in the sieve plates'),\n",
       " ([392, 585, 649, 692],\n",
       "  0.9807008504867554,\n",
       "  'text',\n",
       "  'Phloem transports food (sucrose) from ource to a sink The source is part of the plant hat synthesize food, i.e,, the leaf; and sink, is he part that needs or stores the food. But; the ource and sink may be reversed depending on he season, or the plants need.'),\n",
       " ([109, 625, 269, 648], 0.9725354909896851, 'title', '14.6 Root Pressure'),\n",
       " ([99, 663, 358, 777],\n",
       "  0.9848859906196594,\n",
       "  'text',\n",
       "  'As mineral ions from the soil are actively transported into the xylem tissue of the root, water moves along and increases the pressure inside the xylem: This pressure is called root pressure and is responsible for pushing water upward to some extent'),\n",
       " ([387, 698, 649, 786],\n",
       "  0.9703304767608643,\n",
       "  'text',\n",
       "  'Since the source-sink relationship is variable; the direction of   movement in the phloem can be   upwards or downwards, ie , bidirectional: In  contrast; the movement is always unidirectional in xylem ies upwards.'),\n",
       " ([387, 776, 636, 788],\n",
       "  0.7859326601028442,\n",
       "  'text',\n",
       "  'always unidirectional in xylem 1.e., upwards.'),\n",
       " ([109, 792, 311, 819],\n",
       "  0.9568129777908325,\n",
       "  'title',\n",
       "  '14.7 Uptake of Minerals'),\n",
       " ([397, 816, 640, 836],\n",
       "  0.924776017665863,\n",
       "  'title',\n",
       "  '14.10 Translocation of Sugars'),\n",
       " ([95, 830, 360, 901],\n",
       "  0.9841093420982361,\n",
       "  'text',\n",
       "  'Plants depend on minerals from soil for its nutritional  requirements All  minerals cannot be passively absorbed by the roots. Two factors account for this: (i) minerals are present in the'),\n",
       " ([388, 851, 648, 902],\n",
       "  0.9855589866638184,\n",
       "  'text',\n",
       "  'The mechanism of translocation of sugars from source to sink is through pressure flow hypothesis Glucose   prepared at source (by')]"
      ]
     },
     "metadata": {},
     "execution_count": 9
    }
   ],
   "source": [
    "sorted_results"
   ]
  },
  {
   "cell_type": "code",
   "execution_count": 14,
   "metadata": {},
   "outputs": [
    {
     "output_type": "stream",
     "name": "stdout",
     "text": [
      "101 94\n94 138\n104 253\n115 378\n100 421\n99 446\n109 625\n99 663\n109 792\n95 830\n386 93\n396 257\n387 308\n400 457\n388 491\n392 585\n387 698\n387 776\n397 816\n388 851\n"
     ]
    }
   ],
   "source": [
    "for result in column_sorted_results:\n",
    "    print(result[0][0], result[0][1])"
   ]
  },
  {
   "cell_type": "code",
   "execution_count": null,
   "metadata": {},
   "outputs": [],
   "source": [
    "if len(text) < 50:\n",
    "    add next item\n",
    "\n",
    "same_slide = True\n",
    "previous_label = ''\n",
    "\n",
    "for box, score, label, item in enumerate(column_sorted_results):\n",
    "    if label== \"title\":\n",
    "        slide = prs.slides.add_slide(blank_slide_layout)\n",
    "        top = Inches(1)\n",
    "        left = Inches(1)\n",
    "        width = height = Inches(7)\n",
    "        txBox = slide.shapes.add_textbox(left, top, width, height)\n",
    "        tf = txBox.text_frame\n",
    "        tf.word_wrap = True\n",
    "        p = tf.add_paragraph()\n",
    "        p.text = item\n",
    "        p.font.size = Pt(28)\n",
    "        same_slide = True\n",
    "        \n",
    "    elif label==\"figure\":\n",
    "        if not same_slide:\n",
    "            slide = prs.slides.add_slide(blank_slide_layout)\n",
    "        left = top = Inches(1)\n",
    "        height = Inches(4) \n",
    "        pic = slide.shapes.add_picture(item, left, top, height=height)\n",
    "        same_slide = True\n",
    "\n",
    "    elif label in ['text', 'list']:\n",
    "        if previous_label == \"figure\" and label == \"text\":\n",
    "            top = Inches(4)\n",
    "            left = Inches(2)\n",
    "            width = height = Inches(5)\n",
    "\n",
    "        else:\n",
    "            if not len(item) < 50:\n",
    "                slide = prs.slides.add_slide(blank_slide_layout)\n",
    "            top = Inches(1)\n",
    "            left = Inches(1)\n",
    "            width = height = Inches(7)\n",
    "        if not same_slide:\n",
    "            slide = prs.slides.add_slide(blank_slide_layout)\n",
    "        txBox = slide.shapes.add_textbox(left, top, width, height)\n",
    "        tf = txBox.text_frame\n",
    "        tf.word_wrap = True\n",
    "        p = tf.add_paragraph()\n",
    "        p.text = item\n",
    "        p.font.size = Pt(18)\n",
    "        same_slide = False\n",
    "\n",
    "    previous_label = label\n"
   ]
  }
 ]
}